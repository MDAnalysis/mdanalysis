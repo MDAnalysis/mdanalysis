{
 "cells": [
  {
   "cell_type": "markdown",
   "metadata": {},
   "source": [
    "## Create Universe"
   ]
  },
  {
   "cell_type": "code",
   "execution_count": 1,
   "metadata": {},
   "outputs": [
    {
     "name": "stderr",
     "output_type": "stream",
     "text": [
      "/nfs/homes3/ljwoods2/miniforge3/envs/mda-dev/lib/python3.10/site-packages/tqdm/auto.py:21: TqdmWarning: IProgress not found. Please update jupyter and ipywidgets. See https://ipywidgets.readthedocs.io/en/stable/user_install.html\n",
      "  from .autonotebook import tqdm as notebook_tqdm\n",
      "/nfs/homes3/ljwoods2/workspace/mdanalysis/package/MDAnalysis/topology/PDBParser.py:348: UserWarning: Unknown element Z found for some atoms. These have been given an empty element record. If needed they can be guessed using MDAnalysis.topology.guessers.\n",
      "  warnings.warn(wmsg)\n",
      "/nfs/homes3/ljwoods2/workspace/mdanalysis/package/MDAnalysis/topology/PDBParser.py:348: UserWarning: Unknown element D found for some atoms. These have been given an empty element record. If needed they can be guessed using MDAnalysis.topology.guessers.\n",
      "  warnings.warn(wmsg)\n",
      "/nfs/homes3/ljwoods2/workspace/mdanalysis/package/MDAnalysis/topology/guessers.py:146: UserWarning: Failed to guess the mass for the following atom types: D\n",
      "  warnings.warn(\"Failed to guess the mass for the following atom types: {}\".format(atom_type))\n",
      "/nfs/homes3/ljwoods2/workspace/mdanalysis/package/MDAnalysis/topology/guessers.py:146: UserWarning: Failed to guess the mass for the following atom types: Z\n",
      "  warnings.warn(\"Failed to guess the mass for the following atom types: {}\".format(atom_type))\n"
     ]
    }
   ],
   "source": [
    "import MDAnalysis as mda\n",
    "\n",
    "TOPOL = \"/scratch/ljwoods2/workspace/zarrtraj/zarrtraj/data/yiip_equilibrium/YiiP_system.pdb\"\n",
    "TRAJ = \"/scratch/ljwoods2/workspace/zarrtraj/zarrtraj/data/yiip_aligned_compressed.h5md\"\n",
    "\n",
    "u = mda.Universe(TOPOL, TRAJ)"
   ]
  },
  {
   "cell_type": "markdown",
   "metadata": {},
   "source": [
    "## Run dask RMSF method"
   ]
  },
  {
   "cell_type": "code",
   "execution_count": 2,
   "metadata": {},
   "outputs": [],
   "source": [
    "from MDAnalysis.analysis.dasktimeseries import DaskRMSF\n",
    "\n",
    "dask_timeseries = u.trajectory.dask_timeseries()\n",
    "dRMSF = DaskRMSF(dask_timeseries).run()\n",
    "dRMSF_result = dRMSF.results.rmsf"
   ]
  },
  {
   "cell_type": "markdown",
   "metadata": {},
   "source": [
    "## Run RMSF method shipped with mda"
   ]
  },
  {
   "cell_type": "code",
   "execution_count": 5,
   "metadata": {},
   "outputs": [],
   "source": [
    "from MDAnalysis.analysis.rms import RMSF\n",
    "\n",
    "RMSF = RMSF(u.atoms).run()\n",
    "RMSF_result = RMSF.results.rmsf"
   ]
  },
  {
   "cell_type": "markdown",
   "metadata": {},
   "source": [
    "## Ensure results are the same"
   ]
  },
  {
   "cell_type": "code",
   "execution_count": 8,
   "metadata": {},
   "outputs": [],
   "source": [
    "from numpy.testing import assert_allclose\n",
    "\n",
    "assert_allclose(dRMSF_result, RMSF_result, atol=1e-5)"
   ]
  },
  {
   "cell_type": "markdown",
   "metadata": {},
   "source": [
    "## Print num cores used by dask scheduler"
   ]
  },
  {
   "cell_type": "code",
   "execution_count": 17,
   "metadata": {},
   "outputs": [
    {
     "data": {
      "text/plain": [
       "24"
      ]
     },
     "execution_count": 17,
     "metadata": {},
     "output_type": "execute_result"
    }
   ],
   "source": [
    "\n",
    "import multiprocessing\n",
    "multiprocessing.cpu_count()\n"
   ]
  },
  {
   "cell_type": "markdown",
   "metadata": {},
   "source": [
    "## Settings used to write the trajectory used above"
   ]
  },
  {
   "cell_type": "code",
   "execution_count": null,
   "metadata": {},
   "outputs": [],
   "source": [
    "import MDAnalysis as mda\n",
    "import MDAnalysisData\n",
    "from MDAnalysis.analysis import align\n",
    "\n",
    "yiip = MDAnalysisData.yiip_equilibrium.fetch_yiip_equilibrium_long()\n",
    "\n",
    "u = mda.Universe(\n",
    "    yiip.topology,\n",
    "    yiip.trajectory\n",
    ")\n",
    "\n",
    "average = align.AverageStructure(\n",
    "    u, u, select=\"protein and name CA\", ref_frame=0\n",
    ").run()\n",
    "ref = average.results.universe\n",
    "\n",
    "# Writer kwargs only passable to align in mda 2.8.0\n",
    "# to relax requirement, just write in two steps\n",
    "\n",
    "# 1. Align traj and write to xtc\n",
    "aligner = align.AlignTraj(\n",
    "    u,\n",
    "    ref,\n",
    "    select=\"protein and name CA\",\n",
    "    filename=\"/scratch/ljwoods2/workspace/zarrtraj/data/yiip_equilibrium/YiiP_system_90ns_center_aligned.xtc\",\n",
    ").run()\n",
    "\n",
    "# 2. Write aligned xtc traj to H5MD\n",
    "u_aligned = mda.Universe(\n",
    "    yiip.topology,\n",
    "    \"/scratch/ljwoods2/workspace/zarrtraj/data/yiip_equilibrium/YiiP_system_90ns_center_aligned.xtc\"\n",
    ")\n",
    "\n",
    "with mda.Writer(\n",
    "    \"/scratch/ljwoods2/workspace/zarrtraj/zarrtraj/data/yiip_aligned_compressed.h5md\",\n",
    "    n_atoms=u_aligned.trajectory.n_atoms,\n",
    "    n_frames=u_aligned.trajectory.n_frames,\n",
    "    compression=\"gzip\",\n",
    "    compression_opts=9,\n",
    "    chunks=(9, u.trajectory.n_atoms, 3),\n",
    ") as W:\n",
    "    for ts in u_aligned.trajectory:\n",
    "        W.write(u_aligned.atoms)\n"
   ]
  }
 ],
 "metadata": {
  "kernelspec": {
   "display_name": "mda-dev",
   "language": "python",
   "name": "python3"
  },
  "language_info": {
   "codemirror_mode": {
    "name": "ipython",
    "version": 3
   },
   "file_extension": ".py",
   "mimetype": "text/x-python",
   "name": "python",
   "nbconvert_exporter": "python",
   "pygments_lexer": "ipython3",
   "version": "3.10.0"
  }
 },
 "nbformat": 4,
 "nbformat_minor": 2
}
