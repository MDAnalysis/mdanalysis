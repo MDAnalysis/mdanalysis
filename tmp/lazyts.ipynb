{
 "cells": [
  {
   "cell_type": "markdown",
   "metadata": {},
   "source": [
    "## Create Universe"
   ]
  },
  {
   "cell_type": "code",
   "execution_count": 1,
   "metadata": {},
   "outputs": [
    {
     "name": "stderr",
     "output_type": "stream",
     "text": [
      "/nfs/homes3/ljwoods2/miniforge3/envs/mda-dev/lib/python3.10/site-packages/tqdm/auto.py:21: TqdmWarning: IProgress not found. Please update jupyter and ipywidgets. See https://ipywidgets.readthedocs.io/en/stable/user_install.html\n",
      "  from .autonotebook import tqdm as notebook_tqdm\n",
      "/nfs/homes3/ljwoods2/workspace/mdanalysis/package/MDAnalysis/topology/PDBParser.py:348: UserWarning: Unknown element Z found for some atoms. These have been given an empty element record. If needed they can be guessed using MDAnalysis.topology.guessers.\n",
      "  warnings.warn(wmsg)\n",
      "/nfs/homes3/ljwoods2/workspace/mdanalysis/package/MDAnalysis/topology/PDBParser.py:348: UserWarning: Unknown element D found for some atoms. These have been given an empty element record. If needed they can be guessed using MDAnalysis.topology.guessers.\n",
      "  warnings.warn(wmsg)\n",
      "/nfs/homes3/ljwoods2/workspace/mdanalysis/package/MDAnalysis/topology/guessers.py:146: UserWarning: Failed to guess the mass for the following atom types: D\n",
      "  warnings.warn(\"Failed to guess the mass for the following atom types: {}\".format(atom_type))\n",
      "/nfs/homes3/ljwoods2/workspace/mdanalysis/package/MDAnalysis/topology/guessers.py:146: UserWarning: Failed to guess the mass for the following atom types: Z\n",
      "  warnings.warn(\"Failed to guess the mass for the following atom types: {}\".format(atom_type))\n"
     ]
    }
   ],
   "source": [
    "import MDAnalysis as mda\n",
    "\n",
    "TOPOL = \"/scratch/ljwoods2/workspace/zarrtraj/zarrtraj/data/yiip_equilibrium/YiiP_system.pdb\"\n",
    "TRAJ = \"/scratch/ljwoods2/workspace/zarrtraj/zarrtraj/data/yiip_aligned_compressed.h5md\"\n",
    "\n",
    "u = mda.Universe(TOPOL, TRAJ)"
   ]
  },
  {
   "cell_type": "markdown",
   "metadata": {},
   "source": [
    "## Run dask RMSF method"
   ]
  },
  {
   "cell_type": "code",
   "execution_count": 2,
   "metadata": {},
   "outputs": [],
   "source": [
    "from MDAnalysis.analysis.dasktimeseries import DaskRMSF\n",
    "\n",
    "dask_timeseries = u.trajectory.dask_timeseries()\n",
    "dRMSF = DaskRMSF(dask_timeseries).run()\n",
    "dRMSF_result = dRMSF.results.rmsf"
   ]
  },
  {
   "cell_type": "markdown",
   "metadata": {},
   "source": [
    "## Run RMSF method shipped with mda"
   ]
  },
  {
   "cell_type": "code",
   "execution_count": 5,
   "metadata": {},
   "outputs": [],
   "source": [
    "from MDAnalysis.analysis.rms import RMSF\n",
    "\n",
    "RMSF = RMSF(u.atoms).run()\n",
    "RMSF_result = RMSF.results.rmsf"
   ]
  },
  {
   "cell_type": "markdown",
   "metadata": {},
   "source": [
    "## Ensure results are the same"
   ]
  },
  {
   "cell_type": "code",
   "execution_count": 8,
   "metadata": {},
   "outputs": [],
   "source": [
    "from numpy.testing import assert_allclose\n",
    "\n",
    "assert_allclose(dRMSF_result, RMSF_result, atol=1e-5)"
   ]
  },
  {
   "cell_type": "markdown",
   "metadata": {},
   "source": [
    "## Print num cores used by dask scheduler"
   ]
  },
  {
   "cell_type": "code",
   "execution_count": 15,
   "metadata": {},
   "outputs": [
    {
     "ename": "KeyError",
     "evalue": "'num_workers'",
     "output_type": "error",
     "traceback": [
      "\u001b[0;31m---------------------------------------------------------------------------\u001b[0m",
      "\u001b[0;31mKeyError\u001b[0m                                  Traceback (most recent call last)",
      "Cell \u001b[0;32mIn[15], line 3\u001b[0m\n\u001b[1;32m      1\u001b[0m \u001b[38;5;28;01mimport\u001b[39;00m \u001b[38;5;21;01mdask\u001b[39;00m\n\u001b[1;32m      2\u001b[0m \u001b[38;5;28;01mimport\u001b[39;00m \u001b[38;5;21;01mmultiprocessing\u001b[39;00m\n\u001b[0;32m----> 3\u001b[0m num_threads \u001b[38;5;241m=\u001b[39m \u001b[43mdask\u001b[49m\u001b[38;5;241;43m.\u001b[39;49m\u001b[43mconfig\u001b[49m\u001b[38;5;241;43m.\u001b[39;49m\u001b[43mget\u001b[49m\u001b[43m(\u001b[49m\u001b[38;5;124;43m'\u001b[39;49m\u001b[38;5;124;43mnum_workers\u001b[39;49m\u001b[38;5;124;43m'\u001b[39;49m\u001b[43m)\u001b[49m\n\u001b[1;32m      4\u001b[0m \u001b[38;5;28mprint\u001b[39m(num_threads)\n",
      "File \u001b[0;32m~/miniforge3/envs/mda-dev/lib/python3.10/site-packages/dask/config.py:613\u001b[0m, in \u001b[0;36mget\u001b[0;34m(key, default, config, override_with)\u001b[0m\n\u001b[1;32m    611\u001b[0m k \u001b[38;5;241m=\u001b[39m canonical_name(k, result)\n\u001b[1;32m    612\u001b[0m \u001b[38;5;28;01mtry\u001b[39;00m:\n\u001b[0;32m--> 613\u001b[0m     result \u001b[38;5;241m=\u001b[39m \u001b[43mresult\u001b[49m\u001b[43m[\u001b[49m\u001b[43mk\u001b[49m\u001b[43m]\u001b[49m\n\u001b[1;32m    614\u001b[0m \u001b[38;5;28;01mexcept\u001b[39;00m (\u001b[38;5;167;01mTypeError\u001b[39;00m, \u001b[38;5;167;01mIndexError\u001b[39;00m, \u001b[38;5;167;01mKeyError\u001b[39;00m):\n\u001b[1;32m    615\u001b[0m     \u001b[38;5;28;01mif\u001b[39;00m default \u001b[38;5;129;01mis\u001b[39;00m no_default:\n",
      "\u001b[0;31mKeyError\u001b[0m: 'num_workers'"
     ]
    }
   ],
   "source": [
    "import dask\n",
    "import multiprocessing\n",
    "num_threads = dask.config.get('num_workers', 0)\n",
    "print(num_threads)"
   ]
  },
  {
   "cell_type": "markdown",
   "metadata": {},
   "source": [
    "## Settings used to write the trajectory used above"
   ]
  },
  {
   "cell_type": "code",
   "execution_count": null,
   "metadata": {},
   "outputs": [],
   "source": [
    "import MDAnalysis as mda\n",
    "import MDAnalysisData\n",
    "from MDAnalysis.analysis import align\n",
    "\n",
    "yiip = MDAnalysisData.yiip_equilibrium.fetch_yiip_equilibrium_long()\n",
    "\n",
    "u = mda.Universe(\n",
    "    yiip.topology,\n",
    "    yiip.trajectory\n",
    ")\n",
    "\n",
    "average = align.AverageStructure(\n",
    "    u, u, select=\"protein and name CA\", ref_frame=0\n",
    ").run()\n",
    "ref = average.results.universe\n",
    "\n",
    "# Writer kwargs only passable to align in mda 2.8.0\n",
    "# to relax requirement, just write in two steps\n",
    "\n",
    "# 1. Align traj and write to xtc\n",
    "aligner = align.AlignTraj(\n",
    "    u,\n",
    "    ref,\n",
    "    select=\"protein and name CA\",\n",
    "    filename=\"/scratch/ljwoods2/workspace/zarrtraj/data/yiip_equilibrium/YiiP_system_90ns_center_aligned.xtc\",\n",
    ").run()\n",
    "\n",
    "# 2. Write aligned xtc traj to H5MD\n",
    "u_aligned = mda.Universe(\n",
    "    yiip.topology,\n",
    "    \"/scratch/ljwoods2/workspace/zarrtraj/data/yiip_equilibrium/YiiP_system_90ns_center_aligned.xtc\"\n",
    ")\n",
    "\n",
    "with mda.Writer(\n",
    "    \"/scratch/ljwoods2/workspace/zarrtraj/zarrtraj/data/yiip_aligned_compressed.h5md\",\n",
    "    n_atoms=u_aligned.trajectory.n_atoms,\n",
    "    n_frames=u_aligned.trajectory.n_frames,\n",
    "    compression=\"gzip\",\n",
    "    compression_opts=9,\n",
    "    chunks=(9, u.trajectory.n_atoms, 3),\n",
    ") as W:\n",
    "    for ts in u_aligned.trajectory:\n",
    "        W.write(u_aligned.atoms)\n"
   ]
  }
 ],
 "metadata": {
  "kernelspec": {
   "display_name": "mda-dev",
   "language": "python",
   "name": "python3"
  },
  "language_info": {
   "codemirror_mode": {
    "name": "ipython",
    "version": 3
   },
   "file_extension": ".py",
   "mimetype": "text/x-python",
   "name": "python",
   "nbconvert_exporter": "python",
   "pygments_lexer": "ipython3",
   "version": "3.10.0"
  }
 },
 "nbformat": 4,
 "nbformat_minor": 2
}
